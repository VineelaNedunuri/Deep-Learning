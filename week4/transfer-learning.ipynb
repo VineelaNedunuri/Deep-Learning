{
 "cells": [
  {
   "cell_type": "code",
   "execution_count": 1,
   "id": "ee2c44b2-b102-45a3-9a46-0e4a830155d9",
   "metadata": {},
   "outputs": [
    {
     "name": "stderr",
     "output_type": "stream",
     "text": [
      "2023-12-08 14:00:36.954234: E tensorflow/compiler/xla/stream_executor/cuda/cuda_dnn.cc:9342] Unable to register cuDNN factory: Attempting to register factory for plugin cuDNN when one has already been registered\n",
      "2023-12-08 14:00:36.954258: E tensorflow/compiler/xla/stream_executor/cuda/cuda_fft.cc:609] Unable to register cuFFT factory: Attempting to register factory for plugin cuFFT when one has already been registered\n",
      "2023-12-08 14:00:36.954282: E tensorflow/compiler/xla/stream_executor/cuda/cuda_blas.cc:1518] Unable to register cuBLAS factory: Attempting to register factory for plugin cuBLAS when one has already been registered\n",
      "2023-12-08 14:00:36.960300: I tensorflow/core/platform/cpu_feature_guard.cc:182] This TensorFlow binary is optimized to use available CPU instructions in performance-critical operations.\n",
      "To enable the following instructions: AVX2 FMA, in other operations, rebuild TensorFlow with the appropriate compiler flags.\n",
      "2023-12-08 14:00:37.727846: W tensorflow/compiler/tf2tensorrt/utils/py_utils.cc:38] TF-TRT Warning: Could not find TensorRT\n"
     ]
    }
   ],
   "source": [
    "import tensorflow as tf\n",
    "from tensorflow.keras.applications.vgg16 import VGG16\n",
    "from tensorflow.keras.layers import Dense, Flatten\n",
    "from tensorflow.keras.models import Model\n",
    "from tensorflow.keras.datasets import cifar10\n",
    "from tensorflow.keras.utils import to_categorical\n",
    "import matplotlib.pyplot as plt"
   ]
  },
  {
   "cell_type": "code",
   "execution_count": 2,
   "id": "12e90f46-ee5f-48a2-9cb0-1a197d6c0073",
   "metadata": {},
   "outputs": [],
   "source": [
    "# Load and preprocess CIFAR-10 data\n",
    "(train_images_x, train_labels_y), (test_images_x, test_labels_y) = cifar10.load_data()\n",
    "train_images = tf.keras.applications.vgg16.preprocess_input(train_images_x)\n",
    "test_images = tf.keras.applications.vgg16.preprocess_input(test_images_x)\n",
    "train_labels = to_categorical(train_labels_y)\n",
    "test_labels = to_categorical(test_labels_y)"
   ]
  },
  {
   "cell_type": "markdown",
   "id": "78b7a5ab-5de6-49b2-989a-da944a105370",
   "metadata": {},
   "source": [
    "# Inspect VGG16 base model\n",
    "VGG16 with and without its fully connected layers"
   ]
  },
  {
   "cell_type": "code",
   "execution_count": 3,
   "id": "ce9484ba-88aa-4dbb-b158-7f533517d9b5",
   "metadata": {},
   "outputs": [
    {
     "name": "stderr",
     "output_type": "stream",
     "text": [
      "2023-12-08 14:00:39.533814: I tensorflow/compiler/xla/stream_executor/cuda/cuda_gpu_executor.cc:894] successful NUMA node read from SysFS had negative value (-1), but there must be at least one NUMA node, so returning NUMA node zero. See more at https://github.com/torvalds/linux/blob/v6.0/Documentation/ABI/testing/sysfs-bus-pci#L344-L355\n",
      "2023-12-08 14:00:39.563158: W tensorflow/core/common_runtime/gpu/gpu_device.cc:2211] Cannot dlopen some GPU libraries. Please make sure the missing libraries mentioned above are installed properly if you would like to use GPU. Follow the guide at https://www.tensorflow.org/install/gpu for how to download and setup the required libraries for your platform.\n",
      "Skipping registering GPU devices...\n"
     ]
    }
   ],
   "source": [
    "vgg_base_model_with_top = VGG16(weights='imagenet', include_top=True, input_shape=(224, 224, 3))"
   ]
  },
  {
   "cell_type": "code",
   "execution_count": 4,
   "id": "cf4824c9-dbf1-431b-9519-6577ded0e1be",
   "metadata": {},
   "outputs": [
    {
     "data": {
      "text/plain": [
       "[<keras.src.engine.input_layer.InputLayer at 0x7f50a748d150>,\n",
       " <keras.src.layers.convolutional.conv2d.Conv2D at 0x7f514c9df6d0>,\n",
       " <keras.src.layers.convolutional.conv2d.Conv2D at 0x7f50a748f880>,\n",
       " <keras.src.layers.pooling.max_pooling2d.MaxPooling2D at 0x7f509e0fc5b0>,\n",
       " <keras.src.layers.convolutional.conv2d.Conv2D at 0x7f50a748fac0>,\n",
       " <keras.src.layers.convolutional.conv2d.Conv2D at 0x7f509e0fd0f0>,\n",
       " <keras.src.layers.pooling.max_pooling2d.MaxPooling2D at 0x7f509e0fe7a0>,\n",
       " <keras.src.layers.convolutional.conv2d.Conv2D at 0x7f509e0ff160>,\n",
       " <keras.src.layers.convolutional.conv2d.Conv2D at 0x7f509e0ffee0>,\n",
       " <keras.src.layers.convolutional.conv2d.Conv2D at 0x7f509e0fefb0>,\n",
       " <keras.src.layers.pooling.max_pooling2d.MaxPooling2D at 0x7f509e170fa0>,\n",
       " <keras.src.layers.convolutional.conv2d.Conv2D at 0x7f509e171990>,\n",
       " <keras.src.layers.convolutional.conv2d.Conv2D at 0x7f509e172020>,\n",
       " <keras.src.layers.convolutional.conv2d.Conv2D at 0x7f509e172bf0>,\n",
       " <keras.src.layers.pooling.max_pooling2d.MaxPooling2D at 0x7f509e1739a0>,\n",
       " <keras.src.layers.convolutional.conv2d.Conv2D at 0x7f509e171600>,\n",
       " <keras.src.layers.convolutional.conv2d.Conv2D at 0x7f509e170910>,\n",
       " <keras.src.layers.convolutional.conv2d.Conv2D at 0x7f509e171f00>,\n",
       " <keras.src.layers.pooling.max_pooling2d.MaxPooling2D at 0x7f509e0ff070>,\n",
       " <keras.src.layers.reshaping.flatten.Flatten at 0x7f509e172530>,\n",
       " <keras.src.layers.core.dense.Dense at 0x7f5070602260>,\n",
       " <keras.src.layers.core.dense.Dense at 0x7f509e0fe3e0>,\n",
       " <keras.src.layers.core.dense.Dense at 0x7f5070600ac0>]"
      ]
     },
     "execution_count": 4,
     "metadata": {},
     "output_type": "execute_result"
    }
   ],
   "source": [
    "vgg_base_model_with_top.layers"
   ]
  },
  {
   "cell_type": "code",
   "execution_count": 5,
   "id": "374857b0-2477-4b39-8794-329b5c4251eb",
   "metadata": {},
   "outputs": [],
   "source": [
    "vgg_base_model = VGG16(weights='imagenet', include_top=False, input_shape=(32, 32, 3))"
   ]
  },
  {
   "cell_type": "code",
   "execution_count": 6,
   "id": "4dcee21c-46a2-484f-965f-2f028af4f8fe",
   "metadata": {},
   "outputs": [
    {
     "data": {
      "text/plain": [
       "[<keras.src.engine.input_layer.InputLayer at 0x7f5070618a90>,\n",
       " <keras.src.layers.convolutional.conv2d.Conv2D at 0x7f5070618eb0>,\n",
       " <keras.src.layers.convolutional.conv2d.Conv2D at 0x7f514c9df070>,\n",
       " <keras.src.layers.pooling.max_pooling2d.MaxPooling2D at 0x7f5070619c60>,\n",
       " <keras.src.layers.convolutional.conv2d.Conv2D at 0x7f507061a410>,\n",
       " <keras.src.layers.convolutional.conv2d.Conv2D at 0x7f507061aaa0>,\n",
       " <keras.src.layers.pooling.max_pooling2d.MaxPooling2D at 0x7f507061be80>,\n",
       " <keras.src.layers.convolutional.conv2d.Conv2D at 0x7f507061b640>,\n",
       " <keras.src.layers.convolutional.conv2d.Conv2D at 0x7f507061a260>,\n",
       " <keras.src.layers.convolutional.conv2d.Conv2D at 0x7f5070649330>,\n",
       " <keras.src.layers.pooling.max_pooling2d.MaxPooling2D at 0x7f507064a290>,\n",
       " <keras.src.layers.convolutional.conv2d.Conv2D at 0x7f507064ac50>,\n",
       " <keras.src.layers.convolutional.conv2d.Conv2D at 0x7f507064b2e0>,\n",
       " <keras.src.layers.convolutional.conv2d.Conv2D at 0x7f50706485b0>,\n",
       " <keras.src.layers.pooling.max_pooling2d.MaxPooling2D at 0x7f50706691b0>,\n",
       " <keras.src.layers.convolutional.conv2d.Conv2D at 0x7f507064acb0>,\n",
       " <keras.src.layers.convolutional.conv2d.Conv2D at 0x7f5070669990>,\n",
       " <keras.src.layers.convolutional.conv2d.Conv2D at 0x7f507066a080>,\n",
       " <keras.src.layers.pooling.max_pooling2d.MaxPooling2D at 0x7f507066b670>]"
      ]
     },
     "execution_count": 6,
     "metadata": {},
     "output_type": "execute_result"
    }
   ],
   "source": [
    "vgg_base_model.layers"
   ]
  },
  {
   "cell_type": "markdown",
   "id": "c17ab581-2ac3-4784-a4a4-b12db8277717",
   "metadata": {},
   "source": [
    "# VGG16 feature extraction"
   ]
  },
  {
   "cell_type": "code",
   "execution_count": 7,
   "id": "1c3f7601-1ff4-4dd7-868c-702852d91e47",
   "metadata": {},
   "outputs": [],
   "source": [
    "# Load pre-trained VGG16 model without the top layer\n",
    "def create_vgg_feature_extraction_model():\n",
    "    base_model = VGG16(weights='imagenet', include_top=False, input_shape=(32, 32, 3))\n",
    "    # Freeze the base model\n",
    "    base_model.trainable = False\n",
    "    \n",
    "    # Create a new model on top\n",
    "    inputs = tf.keras.Input(shape=(32, 32, 3))\n",
    "    x = base_model(inputs)\n",
    "    x = Flatten()(x)\n",
    "    x = Dense(10, activation='relu')(x)\n",
    "    outputs = Dense(10, activation='softmax')(x)\n",
    "    model = Model(inputs, outputs)\n",
    "    \n",
    "    # Compile and train the model\n",
    "    model.compile(optimizer='adam', loss='categorical_crossentropy', metrics=['accuracy'])\n",
    "\n",
    "    return model"
   ]
  },
  {
   "cell_type": "code",
   "execution_count": 8,
   "id": "57b121d7-0c7e-4e5a-9e4b-c6cd2d080395",
   "metadata": {},
   "outputs": [],
   "source": [
    "model = create_vgg_feature_extraction_model()"
   ]
  },
  {
   "cell_type": "code",
   "execution_count": 9,
   "id": "9d40139f-3b61-4f7c-9c05-3d987ba58b62",
   "metadata": {},
   "outputs": [
    {
     "name": "stdout",
     "output_type": "stream",
     "text": [
      "Model: \"model\"\n",
      "_________________________________________________________________\n",
      " Layer (type)                Output Shape              Param #   \n",
      "=================================================================\n",
      " input_4 (InputLayer)        [(None, 32, 32, 3)]       0         \n",
      "                                                                 \n",
      " vgg16 (Functional)          (None, 1, 1, 512)         14714688  \n",
      "                                                                 \n",
      " flatten (Flatten)           (None, 512)               0         \n",
      "                                                                 \n",
      " dense (Dense)               (None, 10)                5130      \n",
      "                                                                 \n",
      " dense_1 (Dense)             (None, 10)                110       \n",
      "                                                                 \n",
      "=================================================================\n",
      "Total params: 14719928 (56.15 MB)\n",
      "Trainable params: 5240 (20.47 KB)\n",
      "Non-trainable params: 14714688 (56.13 MB)\n",
      "_________________________________________________________________\n"
     ]
    }
   ],
   "source": [
    "model.summary()"
   ]
  },
  {
   "cell_type": "code",
   "execution_count": 10,
   "id": "3ca4c5ba-4c44-4422-ad38-ebd394930a64",
   "metadata": {},
   "outputs": [],
   "source": [
    "def show_images(images, labels, num_rows=2, num_cols=2, scale=2):\n",
    "    \"\"\"Display a grid of images with labels.\"\"\"\n",
    "    _, axs = plt.subplots(num_rows, num_cols, figsize=(num_cols*scale, num_rows*scale))\n",
    "    axs = axs.flatten()\n",
    "    for img, ax, label in zip(images, axs, labels):\n",
    "        ax.imshow(img)\n",
    "        ax.axis('off')\n",
    "        ax.set_title('Label: ' + str(label))\n",
    "    plt.show()"
   ]
  },
  {
   "cell_type": "code",
   "execution_count": 11,
   "id": "531587ad-68d0-4cca-8eff-055a9fc5e90a",
   "metadata": {},
   "outputs": [],
   "source": [
    "subset_images = train_images_x[16:20]\n",
    "subset_labels = train_labels_y[16:20]"
   ]
  },
  {
   "cell_type": "code",
   "execution_count": 12,
   "id": "69c63bb9-95c1-4167-8c90-08987e5bab4c",
   "metadata": {},
   "outputs": [
    {
     "data": {
      "image/png": "[encoded data removed]",
      "text/plain": [
       "<Figure size 400x400 with 4 Axes>"
      ]
     },
     "metadata": {},
     "output_type": "display_data"
    }
   ],
   "source": [
    "show_images(subset_images, subset_labels)"
   ]
  },
  {
   "cell_type": "markdown",
   "id": "05679500-e4a4-4991-8671-1a7cfcf8231c",
   "metadata": {},
   "source": [
    "# Tasks\n",
    "- Experiement with different setups of fully connected layers"
   ]
  },
  {
   "cell_type": "markdown",
   "id": "ce1cedd7-4dc2-4514-8354-b8b903e98d81",
   "metadata": {},
   "source": [
    "# Finetune VGG16"
   ]
  },
  {
   "cell_type": "code",
   "execution_count": 16,
   "id": "a81d0728-961f-4a42-88ca-8f6f5145ad5b",
   "metadata": {},
   "outputs": [],
   "source": [
    "def create_vgg_finetuning_model():\n",
    "    # Load pre-trained VGG16 model without the top layer\n",
    "    base_model = VGG16(weights='imagenet', include_top=False, input_shape=(32, 32, 3))\n",
    "\n",
    "    # Fine-tune from this layer onwards\n",
    "    fine_tune_at = 2\n",
    "\n",
    "    # Freeze all the layers before the `fine_tune_at` layer\n",
    "    for layer in base_model.layers[:fine_tune_at]:\n",
    "        layer.trainable = False\n",
    "    \n",
    "    # Create a new model on top\n",
    "    inputs = tf.keras.Input(shape=(32, 32, 3))\n",
    "    x = base_model(inputs)\n",
    "    x = Flatten()(x)\n",
    "    x = Dense(10, activation='relu')(x)\n",
    "    outputs = Dense(10, activation='softmax')(x)\n",
    "    model = Model(inputs, outputs)\n",
    "\n",
    "    # It's important to recompile the model after making any changes\n",
    "    model.compile(optimizer=tf.keras.optimizers.Adam(1e-5), loss='categorical_crossentropy', metrics=['accuracy'])\n",
    "\n",
    "    return model"
   ]
  },
  {
   "cell_type": "code",
   "execution_count": 17,
   "id": "e5299fb2-e8fd-40a8-8159-9b90213ba006",
   "metadata": {},
   "outputs": [],
   "source": [
    "model = create_vgg_finetuning_model()"
   ]
  },
  {
   "cell_type": "code",
   "execution_count": 18,
   "id": "948b0765-356f-4550-b5d0-fd99cb8003e2",
   "metadata": {},
   "outputs": [
    {
     "name": "stdout",
     "output_type": "stream",
     "text": [
      "Model: \"model_2\"\n",
      "_________________________________________________________________\n",
      " Layer (type)                Output Shape              Param #   \n",
      "=================================================================\n",
      " input_8 (InputLayer)        [(None, 32, 32, 3)]       0         \n",
      "                                                                 \n",
      " vgg16 (Functional)          (None, 1, 1, 512)         14714688  \n",
      "                                                                 \n",
      " flatten_2 (Flatten)         (None, 512)               0         \n",
      "                                                                 \n",
      " dense_4 (Dense)             (None, 10)                5130      \n",
      "                                                                 \n",
      " dense_5 (Dense)             (None, 10)                110       \n",
      "                                                                 \n",
      "=================================================================\n",
      "Total params: 14719928 (56.15 MB)\n",
      "Trainable params: 14718136 (56.15 MB)\n",
      "Non-trainable params: 1792 (7.00 KB)\n",
      "_________________________________________________________________\n"
     ]
    }
   ],
   "source": [
    "model.summary()"
   ]
  },
  {
   "cell_type": "markdown",
   "id": "15a10a0c-5666-43dd-8e29-67b1fa96a8f7",
   "metadata": {},
   "source": [
    "# Task\n",
    "- Experiment with different amount of layers to finetune\n",
    "  - Does it effect the training time?\n",
    "- Experiment with different fully connected layers"
   ]
  },
  {
   "cell_type": "code",
   "execution_count": null,
   "id": "d95b62ec-b3ee-4f95-9d4a-77837ded13af",
   "metadata": {},
   "outputs": [],
   "source": []
  }
 ],
 "metadata": {
  "kernelspec": {
   "display_name": "dl-course-env",
   "language": "python",
   "name": "dl-course-env"
  },
  "language_info": {
   "codemirror_mode": {
    "name": "ipython",
    "version": 3
   },
   "file_extension": ".py",
   "mimetype": "text/x-python",
   "name": "python",
   "nbconvert_exporter": "python",
   "pygments_lexer": "ipython3",
   "version": "3.10.12"
  }
 },
 "nbformat": 4,
 "nbformat_minor": 5
}
