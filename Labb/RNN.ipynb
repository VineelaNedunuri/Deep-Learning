{
 "cells": [
  {
   "cell_type": "markdown",
   "metadata": {},
   "source": [
    "### Import Libraries"
   ]
  },
  {
   "cell_type": "code",
   "execution_count": 38,
   "metadata": {},
   "outputs": [],
   "source": [
    "# Import libraries\n",
    "import pandas as pd\n",
    "import numpy as np\n",
    "import matplotlib.pyplot as plt\n",
    "from tensorflow.keras.preprocessing.text import Tokenizer\n",
    "from tensorflow.keras.preprocessing.sequence import pad_sequences\n",
    "from sklearn.preprocessing import LabelEncoder\n",
    "from tensorflow.keras.utils import to_categorical\n",
    "from sklearn.model_selection import train_test_split\n",
    "from tensorflow.keras.models import Sequential\n",
    "from tensorflow.keras.layers import Embedding, Bidirectional, LSTM, Dense, Dropout,Flatten\n",
    "from tensorflow.keras.regularizers import l2\n",
    "from tensorflow.keras.optimizers import Adam\n",
    "from tensorflow.keras.callbacks import EarlyStopping\n",
    "from sklearn.metrics import classification_report, confusion_matrix"
   ]
  },
  {
   "cell_type": "markdown",
   "metadata": {},
   "source": [
    "### Load data"
   ]
  },
  {
   "cell_type": "code",
   "execution_count": 39,
   "metadata": {},
   "outputs": [
    {
     "data": {
      "text/html": [
       "<div>\n",
       "<style scoped>\n",
       "    .dataframe tbody tr th:only-of-type {\n",
       "        vertical-align: middle;\n",
       "    }\n",
       "\n",
       "    .dataframe tbody tr th {\n",
       "        vertical-align: top;\n",
       "    }\n",
       "\n",
       "    .dataframe thead th {\n",
       "        text-align: right;\n",
       "    }\n",
       "</style>\n",
       "<table border=\"1\" class=\"dataframe\">\n",
       "  <thead>\n",
       "    <tr style=\"text-align: right;\">\n",
       "      <th></th>\n",
       "      <th>text</th>\n",
       "      <th>label</th>\n",
       "    </tr>\n",
       "  </thead>\n",
       "  <tbody>\n",
       "    <tr>\n",
       "      <th>0</th>\n",
       "      <td>i feel so pissed off over an old friend and so...</td>\n",
       "      <td>anger</td>\n",
       "    </tr>\n",
       "    <tr>\n",
       "      <th>1</th>\n",
       "      <td>ive found it has made a huge difference especi...</td>\n",
       "      <td>anger</td>\n",
       "    </tr>\n",
       "    <tr>\n",
       "      <th>2</th>\n",
       "      <td>i also feel it is unfortunate that nearly all ...</td>\n",
       "      <td>sadness</td>\n",
       "    </tr>\n",
       "    <tr>\n",
       "      <th>3</th>\n",
       "      <td>i feel petty a href http clairee</td>\n",
       "      <td>anger</td>\n",
       "    </tr>\n",
       "    <tr>\n",
       "      <th>4</th>\n",
       "      <td>i used to believe that a feeling like fear was...</td>\n",
       "      <td>sadness</td>\n",
       "    </tr>\n",
       "  </tbody>\n",
       "</table>\n",
       "</div>"
      ],
      "text/plain": [
       "                                                text    label\n",
       "0  i feel so pissed off over an old friend and so...    anger\n",
       "1  ive found it has made a huge difference especi...    anger\n",
       "2  i also feel it is unfortunate that nearly all ...  sadness\n",
       "3                   i feel petty a href http clairee    anger\n",
       "4  i used to believe that a feeling like fear was...  sadness"
      ]
     },
     "execution_count": 39,
     "metadata": {},
     "output_type": "execute_result"
    }
   ],
   "source": [
    "# Read the dataset\n",
    "df = pd.read_csv('emotions.csv')\n",
    "df.head()"
   ]
  },
  {
   "cell_type": "code",
   "execution_count": 40,
   "metadata": {},
   "outputs": [
    {
     "data": {
      "text/plain": [
       "<bound method DataFrame.info of                                                     text    label\n",
       "0      i feel so pissed off over an old friend and so...    anger\n",
       "1      ive found it has made a huge difference especi...    anger\n",
       "2      i also feel it is unfortunate that nearly all ...  sadness\n",
       "3                       i feel petty a href http clairee    anger\n",
       "4      i used to believe that a feeling like fear was...  sadness\n",
       "...                                                  ...      ...\n",
       "19995  i was i might be buying stuff from there but i...      joy\n",
       "19996  i like sonam deepika and genelia who i feel ar...      joy\n",
       "19997  i feel pathetic that i can hardly go a whole d...  sadness\n",
       "19998  id have spent more time with her on reading i ...  sadness\n",
       "19999  i do however feel like one of those pathetic g...  sadness\n",
       "\n",
       "[20000 rows x 2 columns]>"
      ]
     },
     "execution_count": 40,
     "metadata": {},
     "output_type": "execute_result"
    }
   ],
   "source": [
    "df.info"
   ]
  },
  {
   "cell_type": "code",
   "execution_count": 41,
   "metadata": {},
   "outputs": [
    {
     "data": {
      "text/plain": [
       "array(['anger', 'sadness', 'joy', 'love', 'fear', 'surprise'],\n",
       "      dtype=object)"
      ]
     },
     "execution_count": 41,
     "metadata": {},
     "output_type": "execute_result"
    }
   ],
   "source": [
    "# unique labels\n",
    "labels_name= df['label'].unique()\n",
    "labels_name"
   ]
  },
  {
   "cell_type": "code",
   "execution_count": 42,
   "metadata": {},
   "outputs": [
    {
     "name": "stdout",
     "output_type": "stream",
     "text": [
      "Total count of the unique labels are  6\n"
     ]
    }
   ],
   "source": [
    "# Number of classes\n",
    "num_of_classes = len(labels_name)\n",
    "print('Total count of the unique labels are ',num_of_classes)"
   ]
  },
  {
   "cell_type": "markdown",
   "metadata": {},
   "source": [
    "### Preprocessing"
   ]
  },
  {
   "cell_type": "code",
   "execution_count": 43,
   "metadata": {},
   "outputs": [
    {
     "name": "stdout",
     "output_type": "stream",
     "text": [
      "[2, 3, 15, 514, 162, 116, 77, 275, 278, 4, 69, 179]\n"
     ]
    }
   ],
   "source": [
    "# Tokenization\n",
    "max_words = 20000\n",
    "tokenizer = Tokenizer(num_words=max_words,oov_token=\"<OOV>\")\n",
    "\n",
    "# fit the tokenizer on text data to build vocabulary\n",
    "tokenizer.fit_on_texts(df['text'])\n",
    "\n",
    "# Convert text to sequnces of integers\n",
    "X = tokenizer.texts_to_sequences(df['text'])\n",
    "print(X[0])"
   ]
  },
  {
   "cell_type": "code",
   "execution_count": 44,
   "metadata": {},
   "outputs": [
    {
     "name": "stdout",
     "output_type": "stream",
     "text": [
      "Pad sequnce\n",
      "[[  2   3  15 ...   0   0   0]\n",
      " [ 74 323  13 ...   0   0   0]\n",
      " [  2 117   3 ...   0   0   0]\n",
      " ...\n",
      " [  2   3 580 ...   0   0   0]\n",
      " [248  20 405 ...   0   0   0]\n",
      " [  2  39 599 ...   0   0   0]]\n",
      "Vocabulary size 17098\n"
     ]
    }
   ],
   "source": [
    "# Padding the sequences to uniform lengths\n",
    "maxlen=100\n",
    "X = pad_sequences(X, padding='post', maxlen=maxlen)\n",
    "print('Pad sequnce')\n",
    "print(X)\n",
    "\n",
    "vocab_size = len(tokenizer.word_index) + 1 # adding 1 for token padding (i.e. index zero)\n",
    "print('Vocabulary size',vocab_size)\n"
   ]
  },
  {
   "cell_type": "code",
   "execution_count": 45,
   "metadata": {},
   "outputs": [
    {
     "data": {
      "text/plain": [
       "[('<OOV>', 1),\n",
       " ('i', 2),\n",
       " ('feel', 3),\n",
       " ('and', 4),\n",
       " ('to', 5),\n",
       " ('the', 6),\n",
       " ('a', 7),\n",
       " ('feeling', 8),\n",
       " ('that', 9),\n",
       " ('of', 10),\n",
       " ('my', 11),\n",
       " ('in', 12),\n",
       " ('it', 13),\n",
       " ('like', 14),\n",
       " ('so', 15),\n",
       " ('im', 16),\n",
       " ('for', 17),\n",
       " ('me', 18),\n",
       " ('was', 19),\n",
       " ('have', 20)]"
      ]
     },
     "execution_count": 45,
     "metadata": {},
     "output_type": "execute_result"
    }
   ],
   "source": [
    "list(tokenizer.word_index.items())[:20]"
   ]
  },
  {
   "cell_type": "code",
   "execution_count": 46,
   "metadata": {},
   "outputs": [
    {
     "name": "stdout",
     "output_type": "stream",
     "text": [
      "[0 0 4 ... 4 4 4]\n",
      "[[1. 0. 0. 0. 0. 0.]\n",
      " [1. 0. 0. 0. 0. 0.]\n",
      " [0. 0. 0. 0. 1. 0.]\n",
      " ...\n",
      " [0. 0. 0. 0. 1. 0.]\n",
      " [0. 0. 0. 0. 1. 0.]\n",
      " [0. 0. 0. 0. 1. 0.]]\n"
     ]
    }
   ],
   "source": [
    "# Label encoding\n",
    "label_encoder = LabelEncoder()\n",
    "y = label_encoder.fit_transform(df['label'])\n",
    "print(y)\n",
    "\n",
    "#One-Hot Encode the labels\n",
    "y = to_categorical(y)\n",
    "print(y)"
   ]
  },
  {
   "cell_type": "code",
   "execution_count": 47,
   "metadata": {},
   "outputs": [
    {
     "name": "stdout",
     "output_type": "stream",
     "text": [
      "Shape of the training data: (12800, 100),(12800, 6)\n",
      "Shape of the test data: (4000, 100),(4000, 6)\n",
      "Shape of the test data: (3200, 100),(3200, 6)\n"
     ]
    }
   ],
   "source": [
    "#train,test-split\n",
    "x_train,x_test, y_train, y_test = train_test_split(X, y, test_size=0.2,random_state=42)\n",
    "x_train, x_val, y_train, y_val = train_test_split(x_train, y_train, test_size=0.2, random_state=42)\n",
    "\n",
    "print(f'Shape of the training data: {x_train.shape},{y_train.shape}')\n",
    "print(f'Shape of the test data: {x_test.shape},{y_test.shape}')\n",
    "print(f'Shape of the test data: {x_val.shape},{y_val.shape}')\n"
   ]
  },
  {
   "cell_type": "code",
   "execution_count": 48,
   "metadata": {},
   "outputs": [
    {
     "data": {
      "image/png": "[encoded data removed]",
      "text/plain": [
       "<Figure size 640x480 with 1 Axes>"
      ]
     },
     "metadata": {},
     "output_type": "display_data"
    }
   ],
   "source": [
    "df['label'].value_counts().plot(kind='bar')\n",
    "plt.xlabel('Emotion')\n",
    "plt.ylabel('Count')\n",
    "plt.show()\n"
   ]
  },
  {
   "cell_type": "markdown",
   "metadata": {},
   "source": [
    "### Create model"
   ]
  },
  {
   "cell_type": "code",
   "execution_count": 49,
   "metadata": {},
   "outputs": [],
   "source": [
    "embedding_dim = 100\n",
    "model = Sequential([\n",
    "    Embedding(input_dim=max_words, output_dim=embedding_dim, input_length=maxlen),\n",
    "    Bidirectional(LSTM(128, activation='tanh', kernel_regularizer=l2(0.01))),\n",
    "    Dropout(0.2), \n",
    "    Dense(num_of_classes, activation='softmax')\n",
    "])\n",
    "\n",
    "\n",
    "model.compile(optimizer=Adam(learning_rate=0.001), loss='categorical_crossentropy', metrics=['accuracy'])\n"
   ]
  },
  {
   "cell_type": "markdown",
   "metadata": {},
   "source": [
    "### Train the model"
   ]
  },
  {
   "cell_type": "code",
   "execution_count": 50,
   "metadata": {},
   "outputs": [
    {
     "name": "stdout",
     "output_type": "stream",
     "text": [
      "Epoch 1/10\n",
      "400/400 [==============================] - 130s 276ms/step - loss: 1.7836 - accuracy: 0.3572 - val_loss: 1.3844 - val_accuracy: 0.4884\n",
      "Epoch 2/10\n",
      "400/400 [==============================] - 93s 232ms/step - loss: 0.9144 - accuracy: 0.6775 - val_loss: 0.7703 - val_accuracy: 0.7347\n",
      "Epoch 3/10\n",
      "400/400 [==============================] - 92s 229ms/step - loss: 0.5671 - accuracy: 0.8164 - val_loss: 0.6054 - val_accuracy: 0.8169\n",
      "Epoch 4/10\n",
      "400/400 [==============================] - 97s 242ms/step - loss: 0.3813 - accuracy: 0.8979 - val_loss: 0.5437 - val_accuracy: 0.8381\n",
      "Epoch 5/10\n",
      "400/400 [==============================] - 78s 196ms/step - loss: 0.2963 - accuracy: 0.9257 - val_loss: 0.4652 - val_accuracy: 0.8647\n",
      "Epoch 6/10\n",
      "400/400 [==============================] - 71s 176ms/step - loss: 0.2333 - accuracy: 0.9437 - val_loss: 0.4409 - val_accuracy: 0.8728\n",
      "Epoch 7/10\n",
      "400/400 [==============================] - 70s 176ms/step - loss: 0.2273 - accuracy: 0.9445 - val_loss: 0.5115 - val_accuracy: 0.8531\n",
      "Epoch 8/10\n",
      "400/400 [==============================] - 82s 204ms/step - loss: 0.2031 - accuracy: 0.9513 - val_loss: 0.4433 - val_accuracy: 0.8784\n",
      "Epoch 9/10\n",
      "400/400 [==============================] - 80s 201ms/step - loss: 0.1701 - accuracy: 0.9600 - val_loss: 0.5631 - val_accuracy: 0.8481\n",
      "Epoch 10/10\n",
      "400/400 [==============================] - 82s 204ms/step - loss: 0.1429 - accuracy: 0.9666 - val_loss: 0.5200 - val_accuracy: 0.8666\n"
     ]
    }
   ],
   "source": [
    "\n",
    "history = model.fit(x_train, y_train, epochs=10, batch_size=32, validation_data=(x_val, y_val)) "
   ]
  },
  {
   "cell_type": "markdown",
   "metadata": {},
   "source": [
    "### Visualize the model performance"
   ]
  },
  {
   "cell_type": "code",
   "execution_count": 51,
   "metadata": {},
   "outputs": [
    {
     "data": {
      "image/png": "[encoded data removed]",
      "text/plain": [
       "<Figure size 1200x400 with 2 Axes>"
      ]
     },
     "metadata": {},
     "output_type": "display_data"
    }
   ],
   "source": [
    "plt.figure(figsize=(12, 4))\n",
    "plt.subplot(1, 2, 1)\n",
    "plt.plot(history.history['accuracy'], label='Training Accuracy')\n",
    "plt.plot(history.history['val_accuracy'], label='Validation Accuracy')\n",
    "plt.title('Accuracy over Epochs')\n",
    "plt.xlabel('Epoch')\n",
    "plt.ylabel('Accuracy')\n",
    "plt.legend()\n",
    "\n",
    "plt.subplot(1, 2, 2)\n",
    "plt.plot(history.history['loss'], label='Training Loss')\n",
    "plt.plot(history.history['val_loss'], label='Validation Loss')\n",
    "plt.title('Loss over Epochs')\n",
    "plt.xlabel('Epoch')\n",
    "plt.ylabel('Loss')\n",
    "plt.legend()\n",
    "\n",
    "plt.show()\n"
   ]
  },
  {
   "cell_type": "markdown",
   "metadata": {},
   "source": [
    "### Evaluate on the test set"
   ]
  },
  {
   "cell_type": "code",
   "execution_count": 52,
   "metadata": {},
   "outputs": [
    {
     "name": "stdout",
     "output_type": "stream",
     "text": [
      "125/125 - 7s - loss: 0.4834 - accuracy: 0.8752 - 7s/epoch - 56ms/step\n",
      "Test Loss: 0.4834\n",
      "Test Accuracy: 0.8752\n"
     ]
    }
   ],
   "source": [
    "test_loss, test_accuracy = model.evaluate(x_test, y_test, verbose=2)\n",
    "print(f'Test Loss: {test_loss:.4f}')\n",
    "print(f'Test Accuracy: {test_accuracy:.4f}')"
   ]
  },
  {
   "cell_type": "code",
   "execution_count": 53,
   "metadata": {},
   "outputs": [
    {
     "name": "stdout",
     "output_type": "stream",
     "text": [
      "125/125 [==============================] - 9s 58ms/step\n",
      "\n",
      "Classification Report:\n",
      "              precision    recall  f1-score   support\n",
      "\n",
      "           0       0.81      0.92      0.86       530\n",
      "           1       0.88      0.85      0.86       496\n",
      "           2       0.88      0.92      0.90      1369\n",
      "           3       0.74      0.73      0.74       326\n",
      "           4       0.97      0.87      0.92      1149\n",
      "           5       0.73      0.68      0.70       130\n",
      "\n",
      "    accuracy                           0.88      4000\n",
      "   macro avg       0.83      0.83      0.83      4000\n",
      "weighted avg       0.88      0.88      0.88      4000\n",
      "\n"
     ]
    }
   ],
   "source": [
    "# Make predictions on the test set\n",
    "predictions = model.predict(x_test)\n",
    "predicted_labels = np.argmax(predictions, axis=1)\n",
    "true_labels = np.argmax(y_test, axis=1)\n",
    "\n",
    "# Print classification report\n",
    "print('\\nClassification Report:')\n",
    "print(classification_report(true_labels, predicted_labels))"
   ]
  },
  {
   "cell_type": "markdown",
   "metadata": {},
   "source": [
    "### Frågor:\n",
    "\n"
   ]
  },
  {
   "cell_type": "markdown",
   "metadata": {},
   "source": [
    "### Motivera din modellarkitektur och val av relevanta hyperparametrar.\n",
    "\n",
    "#### Model Architecture:\n",
    "\n",
    "- Embeddeb layer is used to convert word indices into fixed size vectors to repersent the word in the text \n",
    "- Bidirectional LSTM allows the model to consider the context of words both backward and forward in the sequence, potentially improving text understanding.\n",
    "- Dropout is used to prevent the overfitting during training.\n",
    "- Dense layer with softmax activation function is used to produce the output in the form of probablilities for each class.\n",
    "- Adam optimizer is used with a leraning rate of 0.001 is used to control the step size at each iteration.\n",
    "\n",
    "#### Hyperparmeters:\n",
    "\n",
    "- Embedding_dim is set to 100 and can be adjusted based on training data and problem complexity.\n",
    "- LSTM units is set to 128 and can be adjusted based on data complexity and model performance.\n",
    "- L2 regularization with 0.01 is applied to the LSTM layer and it controls the amount of regularisation applied to the weights.\n",
    "- Dropout rate is set to 0.2,chosen to avoid the overfitting.\n",
    "- Batch size is set to 32, chosen to balance taining speed and memory usage. \n",
    "- Learning rate with 0.001 is used in Adam optimiser.\n"
   ]
  },
  {
   "cell_type": "markdown",
   "metadata": {},
   "source": [
    "### Vilka aktiveringsfunktioner har du använt? Varför?\n",
    "\n",
    "- The activation function used in the BIdirectional LSTM layer is the hyperbolic tangent (tanh) and common choice for LSTM layer as it allows the model to capture complex depndencies in the input sequences. It works well for handling the vanishing and gradient problem in long sequences.\n",
    "\n",
    "- The activation function used in output layer is softmax and is used to generate probabilities for each class in multi class classification.\n"
   ]
  },
  {
   "cell_type": "markdown",
   "metadata": {},
   "source": [
    "### Vilken loss funktion har du använt? Varför?\n",
    "\n",
    "- Categorical crossentropy is used as loss function in this model. This is suitable for multi class classifiaction problems where each instance can only belong to single class.\n"
   ]
  },
  {
   "cell_type": "markdown",
   "metadata": {},
   "source": [
    "### Har du använt någon databehandling? Motivera dina val.\n",
    "\n",
    "- Tokenization: \n",
    "\n",
    "    It is used to convert text into sequnces of integers. This process assigns a unique integer to each word in the text.\n",
    "- Padding: \n",
    "\n",
    "    It is applied to the sequences of integers to ensure a uniform input size.In this case padding is applied to the end of each sequence (padding = 'post') with a maximum length of 100.\n",
    "- Label encoding:\n",
    "\n",
    "    The labels are encoded using LabelEncoder which assigns a numerical value to each unique emotion label.Then to_categorial is applied to convert these numerical labels into one hot encoded vectors.\n",
    "\n"
   ]
  },
  {
   "cell_type": "markdown",
   "metadata": {},
   "source": [
    "### Har du använt någon regulariseringsteknik? Motivera\n",
    "\n",
    "- Dropout: \n",
    "\n",
    "   It is applied after Bidirectional LSTM layer with a dropout rate of 0.2 to prevent overfitting.\n",
    "- L2 regularization:\n",
    "\n",
    "   It is applied to the kernel of the Bidirectional LSTM layer with l2 regularisation of 0.01.It adds a penalty for large weights, encouraging simpler configurations, reducing overfitting risk and also enhancing generalization. "
   ]
  },
  {
   "cell_type": "markdown",
   "metadata": {},
   "source": [
    "### Hur har modellen utvärderats?"
   ]
  },
  {
   "cell_type": "markdown",
   "metadata": {},
   "source": [
    "###  Är prestandan bra? Varför/ varför inte?"
   ]
  },
  {
   "cell_type": "markdown",
   "metadata": {},
   "source": [
    "### Vad hade du kunnat göra för att förbättra den ytterligare?"
   ]
  },
  {
   "cell_type": "markdown",
   "metadata": {},
   "source": [
    "### Generativ AI har blivit stort inom text. Beskriv skillnaden mellan generativ ai och mer traditionell ai"
   ]
  }
 ],
 "metadata": {
  "kernelspec": {
   "display_name": "venv",
   "language": "python",
   "name": "python3"
  },
  "language_info": {
   "codemirror_mode": {
    "name": "ipython",
    "version": 3
   },
   "file_extension": ".py",
   "mimetype": "text/x-python",
   "name": "python",
   "nbconvert_exporter": "python",
   "pygments_lexer": "ipython3",
   "version": "3.9.13"
  }
 },
 "nbformat": 4,
 "nbformat_minor": 2
}
