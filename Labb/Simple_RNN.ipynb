{
 "cells": [
  {
   "cell_type": "markdown",
   "metadata": {},
   "source": [
    "### Import Libraries"
   ]
  },
  {
   "cell_type": "code",
   "execution_count": 87,
   "metadata": {},
   "outputs": [],
   "source": [
    "# Import libraries\n",
    "import pandas as pd\n",
    "import numpy as np\n",
    "import matplotlib.pyplot as plt\n",
    "from tensorflow.keras.preprocessing.text import Tokenizer\n",
    "from tensorflow.keras.preprocessing.sequence import pad_sequences\n",
    "from sklearn.preprocessing import LabelEncoder\n",
    "from tensorflow.keras.utils import to_categorical\n",
    "from sklearn.model_selection import train_test_split\n",
    "from tensorflow.keras.models import Sequential\n",
    "from tensorflow.keras.layers import Embedding, LSTM, Dense, Dropout\n",
    "from tensorflow.keras.optimizers import Adam\n",
    "from sklearn.metrics import classification_report, confusion_matrix"
   ]
  },
  {
   "cell_type": "markdown",
   "metadata": {},
   "source": [
    "### Load data"
   ]
  },
  {
   "cell_type": "code",
   "execution_count": 76,
   "metadata": {},
   "outputs": [
    {
     "data": {
      "text/html": [
       "<div>\n",
       "<style scoped>\n",
       "    .dataframe tbody tr th:only-of-type {\n",
       "        vertical-align: middle;\n",
       "    }\n",
       "\n",
       "    .dataframe tbody tr th {\n",
       "        vertical-align: top;\n",
       "    }\n",
       "\n",
       "    .dataframe thead th {\n",
       "        text-align: right;\n",
       "    }\n",
       "</style>\n",
       "<table border=\"1\" class=\"dataframe\">\n",
       "  <thead>\n",
       "    <tr style=\"text-align: right;\">\n",
       "      <th></th>\n",
       "      <th>text</th>\n",
       "      <th>label</th>\n",
       "    </tr>\n",
       "  </thead>\n",
       "  <tbody>\n",
       "    <tr>\n",
       "      <th>0</th>\n",
       "      <td>i feel so pissed off over an old friend and so...</td>\n",
       "      <td>anger</td>\n",
       "    </tr>\n",
       "    <tr>\n",
       "      <th>1</th>\n",
       "      <td>ive found it has made a huge difference especi...</td>\n",
       "      <td>anger</td>\n",
       "    </tr>\n",
       "    <tr>\n",
       "      <th>2</th>\n",
       "      <td>i also feel it is unfortunate that nearly all ...</td>\n",
       "      <td>sadness</td>\n",
       "    </tr>\n",
       "    <tr>\n",
       "      <th>3</th>\n",
       "      <td>i feel petty a href http clairee</td>\n",
       "      <td>anger</td>\n",
       "    </tr>\n",
       "    <tr>\n",
       "      <th>4</th>\n",
       "      <td>i used to believe that a feeling like fear was...</td>\n",
       "      <td>sadness</td>\n",
       "    </tr>\n",
       "  </tbody>\n",
       "</table>\n",
       "</div>"
      ],
      "text/plain": [
       "                                                text    label\n",
       "0  i feel so pissed off over an old friend and so...    anger\n",
       "1  ive found it has made a huge difference especi...    anger\n",
       "2  i also feel it is unfortunate that nearly all ...  sadness\n",
       "3                   i feel petty a href http clairee    anger\n",
       "4  i used to believe that a feeling like fear was...  sadness"
      ]
     },
     "execution_count": 76,
     "metadata": {},
     "output_type": "execute_result"
    }
   ],
   "source": [
    "# Read the dataset\n",
    "df = pd.read_csv('emotions.csv')\n",
    "df.head()"
   ]
  },
  {
   "cell_type": "code",
   "execution_count": 77,
   "metadata": {},
   "outputs": [
    {
     "data": {
      "text/plain": [
       "<bound method DataFrame.info of                                                     text    label\n",
       "0      i feel so pissed off over an old friend and so...    anger\n",
       "1      ive found it has made a huge difference especi...    anger\n",
       "2      i also feel it is unfortunate that nearly all ...  sadness\n",
       "3                       i feel petty a href http clairee    anger\n",
       "4      i used to believe that a feeling like fear was...  sadness\n",
       "...                                                  ...      ...\n",
       "19995  i was i might be buying stuff from there but i...      joy\n",
       "19996  i like sonam deepika and genelia who i feel ar...      joy\n",
       "19997  i feel pathetic that i can hardly go a whole d...  sadness\n",
       "19998  id have spent more time with her on reading i ...  sadness\n",
       "19999  i do however feel like one of those pathetic g...  sadness\n",
       "\n",
       "[20000 rows x 2 columns]>"
      ]
     },
     "execution_count": 77,
     "metadata": {},
     "output_type": "execute_result"
    }
   ],
   "source": [
    "df.info"
   ]
  },
  {
   "cell_type": "code",
   "execution_count": 78,
   "metadata": {},
   "outputs": [
    {
     "data": {
      "text/plain": [
       "array(['anger', 'sadness', 'joy', 'love', 'fear', 'surprise'],\n",
       "      dtype=object)"
      ]
     },
     "execution_count": 78,
     "metadata": {},
     "output_type": "execute_result"
    }
   ],
   "source": [
    "# unique labels\n",
    "labels_name= df['label'].unique()\n",
    "labels_name"
   ]
  },
  {
   "cell_type": "code",
   "execution_count": 79,
   "metadata": {},
   "outputs": [
    {
     "name": "stdout",
     "output_type": "stream",
     "text": [
      "Total count of the unique labels are  6\n"
     ]
    }
   ],
   "source": [
    "# Number of classes\n",
    "num_of_classes = len(labels_name)\n",
    "print('Total count of the unique labels are ',num_of_classes)"
   ]
  },
  {
   "cell_type": "markdown",
   "metadata": {},
   "source": [
    "### Preprocessing"
   ]
  },
  {
   "cell_type": "code",
   "execution_count": 80,
   "metadata": {},
   "outputs": [
    {
     "name": "stdout",
     "output_type": "stream",
     "text": [
      "[1, 2, 14, 513, 161, 115, 76, 274, 277, 3, 68, 178]\n"
     ]
    }
   ],
   "source": [
    "# Tokenization\n",
    "max_words = 1000\n",
    "tokenizer = Tokenizer(num_words=max_words)\n",
    "\n",
    "# fit the tokenizer on text data to build vocabulary\n",
    "tokenizer.fit_on_texts(df['text'])\n",
    "\n",
    "# Convert text to sequnces of integers\n",
    "X = tokenizer.texts_to_sequences(df['text'])\n",
    "print(X[0])"
   ]
  },
  {
   "cell_type": "code",
   "execution_count": 81,
   "metadata": {},
   "outputs": [
    {
     "name": "stdout",
     "output_type": "stream",
     "text": [
      "Pad sequnce\n",
      "[[  1   2  14 ...   0   0   0]\n",
      " [ 73 322  12 ...   0   0   0]\n",
      " [  1 116   2 ...   0   0   0]\n",
      " ...\n",
      " [  1   2 579 ...   0   0   0]\n",
      " [247  19 404 ...   0   0   0]\n",
      " [  1  38 598 ...   0   0   0]]\n",
      "Vocabulary size\n",
      "17097\n"
     ]
    }
   ],
   "source": [
    "# Padding the sequences to uniform lengths\n",
    "maxlen=100\n",
    "X = pad_sequences(X, padding='post', maxlen=maxlen)\n",
    "print('Pad sequnce')\n",
    "print(X)\n",
    "\n",
    "vocab_size = len(tokenizer.word_index) + 1 # adding 1 for token padding (i.e. index zero)\n",
    "print('Vocabulary size')\n",
    "print(vocab_size)"
   ]
  },
  {
   "cell_type": "code",
   "execution_count": 82,
   "metadata": {},
   "outputs": [
    {
     "data": {
      "text/plain": [
       "[('i', 1),\n",
       " ('feel', 2),\n",
       " ('and', 3),\n",
       " ('to', 4),\n",
       " ('the', 5),\n",
       " ('a', 6),\n",
       " ('feeling', 7),\n",
       " ('that', 8),\n",
       " ('of', 9),\n",
       " ('my', 10),\n",
       " ('in', 11),\n",
       " ('it', 12),\n",
       " ('like', 13),\n",
       " ('so', 14),\n",
       " ('im', 15),\n",
       " ('for', 16),\n",
       " ('me', 17),\n",
       " ('was', 18),\n",
       " ('have', 19),\n",
       " ('but', 20)]"
      ]
     },
     "execution_count": 82,
     "metadata": {},
     "output_type": "execute_result"
    }
   ],
   "source": [
    "list(tokenizer.word_index.items())[:20]"
   ]
  },
  {
   "cell_type": "code",
   "execution_count": 83,
   "metadata": {},
   "outputs": [
    {
     "name": "stdout",
     "output_type": "stream",
     "text": [
      "[0 0 4 ... 4 4 4]\n",
      "[[1. 0. 0. 0. 0. 0.]\n",
      " [1. 0. 0. 0. 0. 0.]\n",
      " [0. 0. 0. 0. 1. 0.]\n",
      " ...\n",
      " [0. 0. 0. 0. 1. 0.]\n",
      " [0. 0. 0. 0. 1. 0.]\n",
      " [0. 0. 0. 0. 1. 0.]]\n"
     ]
    }
   ],
   "source": [
    "# Label encoding\n",
    "label_encoder = LabelEncoder()\n",
    "y = label_encoder.fit_transform(df['label'])\n",
    "print(y)\n",
    "\n",
    "#One-Hot Encode the labels\n",
    "y = to_categorical(y)\n",
    "print(y)"
   ]
  },
  {
   "cell_type": "code",
   "execution_count": 84,
   "metadata": {},
   "outputs": [
    {
     "name": "stdout",
     "output_type": "stream",
     "text": [
      "Shape of the training data: (12800, 100),(12800, 6)\n",
      "Shape of the test data: (4000, 100),(4000, 6)\n",
      "Shape of the test data: (3200, 100),(3200, 6)\n"
     ]
    }
   ],
   "source": [
    "#train,test-split\n",
    "x_train,x_test, y_train, y_test = train_test_split(X, y, test_size=0.2,random_state=42)\n",
    "x_train, x_val, y_train, y_val = train_test_split(x_train, y_train, test_size=0.2, random_state=42)\n",
    "\n",
    "print(f'Shape of the training data: {x_train.shape},{y_train.shape}')\n",
    "print(f'Shape of the test data: {x_test.shape},{y_test.shape}')\n",
    "print(f'Shape of the test data: {x_val.shape},{y_val.shape}')\n"
   ]
  },
  {
   "cell_type": "markdown",
   "metadata": {},
   "source": [
    "### Create model"
   ]
  },
  {
   "cell_type": "code",
   "execution_count": 94,
   "metadata": {},
   "outputs": [],
   "source": [
    "embedding_dim= 50\n",
    "model = Sequential([\n",
    "\n",
    "Embedding(input_dim= max_words, output_dim=embedding_dim ,input_length= maxlen),\n",
    "LSTM(128, activation='relu'),\n",
    "Dropout(0.5),\n",
    "Dense(num_of_classes, activation='softmax')\n",
    "])\n",
    "model.compile(optimizer=Adam(learning_rate=0.001), loss='categorical_crossentropy', metrics=['accuracy'])\n"
   ]
  },
  {
   "cell_type": "markdown",
   "metadata": {},
   "source": [
    "### Train the model"
   ]
  },
  {
   "cell_type": "code",
   "execution_count": 95,
   "metadata": {},
   "outputs": [
    {
     "name": "stdout",
     "output_type": "stream",
     "text": [
      "Epoch 1/10\n",
      "400/400 [==============================] - 75s 131ms/step - loss: 1.5891 - accuracy: 0.3252 - val_loss: 1.5912 - val_accuracy: 0.3344\n",
      "Epoch 2/10\n",
      "400/400 [==============================] - 52s 129ms/step - loss: 1.5780 - accuracy: 0.3346 - val_loss: 1.5999 - val_accuracy: 0.3344\n",
      "Epoch 3/10\n",
      "400/400 [==============================] - 53s 132ms/step - loss: 1.5754 - accuracy: 0.3330 - val_loss: 1.5915 - val_accuracy: 0.3344\n",
      "Epoch 4/10\n",
      "400/400 [==============================] - 50s 125ms/step - loss: 1.5762 - accuracy: 0.3350 - val_loss: 1.5928 - val_accuracy: 0.3344\n",
      "Epoch 5/10\n",
      "400/400 [==============================] - 50s 126ms/step - loss: 1.5757 - accuracy: 0.3348 - val_loss: 1.5935 - val_accuracy: 0.3344\n",
      "Epoch 6/10\n",
      "400/400 [==============================] - 54s 136ms/step - loss: 1.5749 - accuracy: 0.3364 - val_loss: 1.5905 - val_accuracy: 0.3344\n",
      "Epoch 7/10\n",
      "400/400 [==============================] - 53s 133ms/step - loss: 1.5737 - accuracy: 0.3358 - val_loss: 1.5904 - val_accuracy: 0.3344\n",
      "Epoch 8/10\n",
      "400/400 [==============================] - 46s 114ms/step - loss: 1.5744 - accuracy: 0.3366 - val_loss: 1.5905 - val_accuracy: 0.3344\n",
      "Epoch 9/10\n",
      "400/400 [==============================] - 55s 139ms/step - loss: 1.5748 - accuracy: 0.3378 - val_loss: 1.5922 - val_accuracy: 0.3344\n",
      "Epoch 10/10\n",
      "400/400 [==============================] - 50s 125ms/step - loss: 1.5746 - accuracy: 0.3370 - val_loss: 1.5898 - val_accuracy: 0.3344\n"
     ]
    }
   ],
   "source": [
    "history = model.fit(x_train, y_train, epochs=10,batch_size=32, validation_data=(x_val, y_val))\n"
   ]
  },
  {
   "cell_type": "markdown",
   "metadata": {},
   "source": [
    "### Visualize the model performance"
   ]
  },
  {
   "cell_type": "code",
   "execution_count": 96,
   "metadata": {},
   "outputs": [
    {
     "data": {
      "image/png": "[encoded data removed]",
      "text/plain": [
       "<Figure size 1200x400 with 2 Axes>"
      ]
     },
     "metadata": {},
     "output_type": "display_data"
    }
   ],
   "source": [
    "plt.figure(figsize=(12, 4))\n",
    "plt.subplot(1, 2, 1)\n",
    "plt.plot(history.history['accuracy'], label='Training Accuracy')\n",
    "plt.plot(history.history['val_accuracy'], label='Validation Accuracy')\n",
    "plt.title('Accuracy over Epochs')\n",
    "plt.xlabel('Epoch')\n",
    "plt.ylabel('Accuracy')\n",
    "plt.legend()\n",
    "\n",
    "plt.subplot(1, 2, 2)\n",
    "plt.plot(history.history['loss'], label='Training Loss')\n",
    "plt.plot(history.history['val_loss'], label='Validation Loss')\n",
    "plt.title('Loss over Epochs')\n",
    "plt.xlabel('Epoch')\n",
    "plt.ylabel('Loss')\n",
    "plt.legend()\n",
    "\n",
    "plt.show()\n"
   ]
  },
  {
   "cell_type": "markdown",
   "metadata": {},
   "source": [
    "### Evaluate on the test set"
   ]
  },
  {
   "cell_type": "code",
   "execution_count": null,
   "metadata": {},
   "outputs": [],
   "source": [
    "test_loss, test_accuracy = model.evaluate(x_test, y_test, verbose=2)\n",
    "print(f'Test Loss: {test_loss:.4f}')\n",
    "print(f'Test Accuracy: {test_accuracy:.4f}')"
   ]
  },
  {
   "cell_type": "code",
   "execution_count": null,
   "metadata": {},
   "outputs": [],
   "source": [
    "# Make predictions on the test set\n",
    "predictions = model.predict(x_test)\n",
    "predicted_labels = np.argmax(predictions, axis=1)\n",
    "true_labels = np.argmax(y_test, axis=1)\n",
    "\n",
    "# Print classification report\n",
    "print('\\nClassification Report:')\n",
    "print(classification_report(true_labels, predicted_labels))"
   ]
  },
  {
   "cell_type": "code",
   "execution_count": null,
   "metadata": {},
   "outputs": [],
   "source": [
    "# Plot confusion matrix\n",
    "cf_matrix = confusion_matrix(true_labels, predicted_labels)\n",
    "plt.figure(figsize=(8, 8))\n",
    "plt.imshow(cf_matrix, cmap='Blues', interpolation='nearest')\n",
    "plt.title('Confusion Matrix')\n",
    "plt.xticks(np.arange(len(num_of_classes)), num_of_classes)\n",
    "plt.yticks(np.arange(len(num_of_classes)), num_of_classes)\n",
    "plt.xlabel('Predicted Labels')\n",
    "plt.ylabel('True Labels')\n",
    "plt.show()"
   ]
  }
 ],
 "metadata": {
  "kernelspec": {
   "display_name": "venv",
   "language": "python",
   "name": "python3"
  },
  "language_info": {
   "codemirror_mode": {
    "name": "ipython",
    "version": 3
   },
   "file_extension": ".py",
   "mimetype": "text/x-python",
   "name": "python",
   "nbconvert_exporter": "python",
   "pygments_lexer": "ipython3",
   "version": "3.9.13"
  }
 },
 "nbformat": 4,
 "nbformat_minor": 2
}
