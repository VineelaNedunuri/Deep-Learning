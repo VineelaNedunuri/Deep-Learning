{
 "cells": [
  {
   "cell_type": "markdown",
   "metadata": {},
   "source": [
    "### Import Libraries"
   ]
  },
  {
   "cell_type": "code",
   "execution_count": 36,
   "metadata": {},
   "outputs": [],
   "source": [
    "# Import libraries\n",
    "import pandas as pd\n",
    "import numpy as np\n",
    "import matplotlib.pyplot as pyplot\n",
    "from tensorflow.keras.preprocessing.text import Tokenizer\n",
    "from tensorflow.keras.preprocessing.sequence import pad_sequences\n",
    "from sklearn.preprocessing import LabelEncoder\n",
    "from tensorflow.keras.utils import to_categorical\n",
    "from sklearn.model_selection import train_test_split\n",
    "from tensorflow.keras.models import Sequential\n",
    "from tensorflow.keras.layers import Embedding, LSTM, Dense, Dropout"
   ]
  },
  {
   "cell_type": "markdown",
   "metadata": {},
   "source": [
    "### Load data"
   ]
  },
  {
   "cell_type": "code",
   "execution_count": 25,
   "metadata": {},
   "outputs": [
    {
     "data": {
      "text/html": [
       "<div>\n",
       "<style scoped>\n",
       "    .dataframe tbody tr th:only-of-type {\n",
       "        vertical-align: middle;\n",
       "    }\n",
       "\n",
       "    .dataframe tbody tr th {\n",
       "        vertical-align: top;\n",
       "    }\n",
       "\n",
       "    .dataframe thead th {\n",
       "        text-align: right;\n",
       "    }\n",
       "</style>\n",
       "<table border=\"1\" class=\"dataframe\">\n",
       "  <thead>\n",
       "    <tr style=\"text-align: right;\">\n",
       "      <th></th>\n",
       "      <th>text</th>\n",
       "      <th>label</th>\n",
       "    </tr>\n",
       "  </thead>\n",
       "  <tbody>\n",
       "    <tr>\n",
       "      <th>0</th>\n",
       "      <td>i feel so pissed off over an old friend and so...</td>\n",
       "      <td>anger</td>\n",
       "    </tr>\n",
       "    <tr>\n",
       "      <th>1</th>\n",
       "      <td>ive found it has made a huge difference especi...</td>\n",
       "      <td>anger</td>\n",
       "    </tr>\n",
       "    <tr>\n",
       "      <th>2</th>\n",
       "      <td>i also feel it is unfortunate that nearly all ...</td>\n",
       "      <td>sadness</td>\n",
       "    </tr>\n",
       "    <tr>\n",
       "      <th>3</th>\n",
       "      <td>i feel petty a href http clairee</td>\n",
       "      <td>anger</td>\n",
       "    </tr>\n",
       "    <tr>\n",
       "      <th>4</th>\n",
       "      <td>i used to believe that a feeling like fear was...</td>\n",
       "      <td>sadness</td>\n",
       "    </tr>\n",
       "  </tbody>\n",
       "</table>\n",
       "</div>"
      ],
      "text/plain": [
       "                                                text    label\n",
       "0  i feel so pissed off over an old friend and so...    anger\n",
       "1  ive found it has made a huge difference especi...    anger\n",
       "2  i also feel it is unfortunate that nearly all ...  sadness\n",
       "3                   i feel petty a href http clairee    anger\n",
       "4  i used to believe that a feeling like fear was...  sadness"
      ]
     },
     "execution_count": 25,
     "metadata": {},
     "output_type": "execute_result"
    }
   ],
   "source": [
    "# Read the dataset\n",
    "df = pd.read_csv('emotions.csv')\n",
    "df.head()"
   ]
  },
  {
   "cell_type": "code",
   "execution_count": 17,
   "metadata": {},
   "outputs": [
    {
     "data": {
      "text/plain": [
       "<bound method DataFrame.info of                                                     text    label\n",
       "0      i feel so pissed off over an old friend and so...    anger\n",
       "1      ive found it has made a huge difference especi...    anger\n",
       "2      i also feel it is unfortunate that nearly all ...  sadness\n",
       "3                       i feel petty a href http clairee    anger\n",
       "4      i used to believe that a feeling like fear was...  sadness\n",
       "...                                                  ...      ...\n",
       "19995  i was i might be buying stuff from there but i...      joy\n",
       "19996  i like sonam deepika and genelia who i feel ar...      joy\n",
       "19997  i feel pathetic that i can hardly go a whole d...  sadness\n",
       "19998  id have spent more time with her on reading i ...  sadness\n",
       "19999  i do however feel like one of those pathetic g...  sadness\n",
       "\n",
       "[20000 rows x 2 columns]>"
      ]
     },
     "execution_count": 17,
     "metadata": {},
     "output_type": "execute_result"
    }
   ],
   "source": [
    "df.info"
   ]
  },
  {
   "cell_type": "code",
   "execution_count": 18,
   "metadata": {},
   "outputs": [
    {
     "data": {
      "text/plain": [
       "array(['anger', 'sadness', 'joy', 'love', 'fear', 'surprise'],\n",
       "      dtype=object)"
      ]
     },
     "execution_count": 18,
     "metadata": {},
     "output_type": "execute_result"
    }
   ],
   "source": [
    "# unique labels\n",
    "labels_name= df['label'].unique()\n",
    "labels_name"
   ]
  },
  {
   "cell_type": "code",
   "execution_count": 44,
   "metadata": {},
   "outputs": [
    {
     "name": "stdout",
     "output_type": "stream",
     "text": [
      "Total count of the unique labels are  6\n"
     ]
    }
   ],
   "source": [
    "# Number of classes\n",
    "num_of_classes = len(labels_name)\n",
    "print('Total count of the unique labels are ',num_of_classes)"
   ]
  },
  {
   "cell_type": "markdown",
   "metadata": {},
   "source": [
    "### Preprocessing"
   ]
  },
  {
   "cell_type": "code",
   "execution_count": 55,
   "metadata": {},
   "outputs": [
    {
     "name": "stdout",
     "output_type": "stream",
     "text": [
      "[1, 2, 14, 513, 161, 115, 76, 274, 277, 3, 68, 178]\n"
     ]
    }
   ],
   "source": [
    "# Tokenization\n",
    "tokenizer = Tokenizer()\n",
    "\n",
    "# fit the tokenizer on text data to build vocabulary\n",
    "tokenizer.fit_on_texts(df['text'])\n",
    "\n",
    "# Convert text to sequnces of integers\n",
    "X = tokenizer.texts_to_sequences(df['text'])\n",
    "print(X[0])"
   ]
  },
  {
   "cell_type": "code",
   "execution_count": 52,
   "metadata": {},
   "outputs": [
    {
     "name": "stdout",
     "output_type": "stream",
     "text": [
      "Pad sequnce\n",
      "[[  1   2  14 ...   0   0   0]\n",
      " [ 73 322  12 ...   0   0   0]\n",
      " [  1 116   2 ...   0   0   0]\n",
      " ...\n",
      " [  1   2 579 ...   0   0   0]\n",
      " [247  19 404 ...   0   0   0]\n",
      " [  1  38 598 ...   0   0   0]]\n",
      "Vocabulary size\n",
      "17097\n"
     ]
    }
   ],
   "source": [
    "# Padding the sequences to uniform lengths\n",
    "maxlen=100\n",
    "X = pad_sequences(X, padding='post', maxlen=maxlen)\n",
    "print('Pad sequnce')\n",
    "print(X)\n",
    "\n",
    "vocab_size = len(tokenizer.word_index) + 1 # adding 1 for token padding (i.e. index zero)\n",
    "print('Vocabulary size')\n",
    "print(vocab_size)"
   ]
  },
  {
   "cell_type": "code",
   "execution_count": 53,
   "metadata": {},
   "outputs": [
    {
     "data": {
      "text/plain": [
       "[('i', 1),\n",
       " ('feel', 2),\n",
       " ('and', 3),\n",
       " ('to', 4),\n",
       " ('the', 5),\n",
       " ('a', 6),\n",
       " ('feeling', 7),\n",
       " ('that', 8),\n",
       " ('of', 9),\n",
       " ('my', 10),\n",
       " ('in', 11),\n",
       " ('it', 12),\n",
       " ('like', 13),\n",
       " ('so', 14),\n",
       " ('im', 15),\n",
       " ('for', 16),\n",
       " ('me', 17),\n",
       " ('was', 18),\n",
       " ('have', 19),\n",
       " ('but', 20)]"
      ]
     },
     "execution_count": 53,
     "metadata": {},
     "output_type": "execute_result"
    }
   ],
   "source": [
    "list(tokenizer.word_index.items())[:20]"
   ]
  },
  {
   "cell_type": "code",
   "execution_count": 29,
   "metadata": {},
   "outputs": [
    {
     "name": "stdout",
     "output_type": "stream",
     "text": [
      "[0 0 4 ... 4 4 4]\n",
      "[[1. 0. 0. 0. 0. 0.]\n",
      " [1. 0. 0. 0. 0. 0.]\n",
      " [0. 0. 0. 0. 1. 0.]\n",
      " ...\n",
      " [0. 0. 0. 0. 1. 0.]\n",
      " [0. 0. 0. 0. 1. 0.]\n",
      " [0. 0. 0. 0. 1. 0.]]\n"
     ]
    }
   ],
   "source": [
    "# Label encoding\n",
    "label_encoder = LabelEncoder()\n",
    "y = label_encoder.fit_transform(df['label'])\n",
    "print(y)\n",
    "\n",
    "#One-Hot Encode the labels\n",
    "y = to_categorical(y)\n",
    "print(y)"
   ]
  },
  {
   "cell_type": "code",
   "execution_count": 45,
   "metadata": {},
   "outputs": [
    {
     "name": "stdout",
     "output_type": "stream",
     "text": [
      "Shape of the training data: (12800, 100),(12800, 6)\n",
      "Shape of the test data: (4000, 100),(4000, 6)\n",
      "Shape of the test data: (3200, 100),(3200, 6)\n"
     ]
    }
   ],
   "source": [
    "#train,test-split\n",
    "x_train,x_test, y_train, y_test = train_test_split(X, y, test_size=0.2,random_state=42)\n",
    "x_train, x_val, y_train, y_val = train_test_split(x_train, y_train, test_size=0.2, random_state=42)\n",
    "\n",
    "print(f'Shape of the training data: {x_train.shape},{y_train.shape}')\n",
    "print(f'Shape of the test data: {x_test.shape},{y_test.shape}')\n",
    "print(f'Shape of the test data: {x_val.shape},{y_val.shape}')\n"
   ]
  },
  {
   "cell_type": "markdown",
   "metadata": {},
   "source": [
    "### Create model"
   ]
  },
  {
   "cell_type": "code",
   "execution_count": 54,
   "metadata": {},
   "outputs": [
    {
     "ename": "NameError",
     "evalue": "name 'embedding_dim' is not defined",
     "output_type": "error",
     "traceback": [
      "\u001b[1;31m---------------------------------------------------------------------------\u001b[0m",
      "\u001b[1;31mNameError\u001b[0m                                 Traceback (most recent call last)",
      "Cell \u001b[1;32mIn[54], line 3\u001b[0m\n\u001b[0;32m      1\u001b[0m model \u001b[38;5;241m=\u001b[39m Sequential([\n\u001b[0;32m      2\u001b[0m \n\u001b[1;32m----> 3\u001b[0m Embedding(input_dim\u001b[38;5;241m=\u001b[39m vocab_size, output_dim\u001b[38;5;241m=\u001b[39m\u001b[43membedding_dim\u001b[49m ,input_length\u001b[38;5;241m=\u001b[39m maxlen),\n\u001b[0;32m      4\u001b[0m LSTM(\u001b[38;5;241m128\u001b[39m, activation\u001b[38;5;241m=\u001b[39m\u001b[38;5;124m'\u001b[39m\u001b[38;5;124mrelu\u001b[39m\u001b[38;5;124m'\u001b[39m),\n\u001b[0;32m      5\u001b[0m Dropout(\u001b[38;5;241m0.5\u001b[39m),\n\u001b[0;32m      6\u001b[0m Dense(num_of_classes, activation\u001b[38;5;241m=\u001b[39m\u001b[38;5;124m'\u001b[39m\u001b[38;5;124msoftmax\u001b[39m\u001b[38;5;124m'\u001b[39m)\n\u001b[0;32m      7\u001b[0m ])\n\u001b[0;32m      8\u001b[0m model\u001b[38;5;241m.\u001b[39mcompile(optimizer\u001b[38;5;241m=\u001b[39m\u001b[38;5;124m'\u001b[39m\u001b[38;5;124mAdam\u001b[39m\u001b[38;5;124m'\u001b[39m, loss\u001b[38;5;241m=\u001b[39m\u001b[38;5;124m'\u001b[39m\u001b[38;5;124mcategorical_crossentropy\u001b[39m\u001b[38;5;124m'\u001b[39m, metrics\u001b[38;5;241m=\u001b[39m[\u001b[38;5;124m'\u001b[39m\u001b[38;5;124maccuracy\u001b[39m\u001b[38;5;124m'\u001b[39m])\n",
      "\u001b[1;31mNameError\u001b[0m: name 'embedding_dim' is not defined"
     ]
    }
   ],
   "source": [
    "model = Sequential([\n",
    "\n",
    "Embedding(input_dim= vocab_size, output_dim=embedding_dim ,input_length= maxlen),\n",
    "LSTM(128, activation='relu'),\n",
    "Dropout(0.5),\n",
    "Dense(num_of_classes, activation='softmax')\n",
    "])\n",
    "model.compile(optimizer='Adam', loss='categorical_crossentropy', metrics=['accuracy'])\n"
   ]
  }
 ],
 "metadata": {
  "kernelspec": {
   "display_name": "venv",
   "language": "python",
   "name": "python3"
  },
  "language_info": {
   "codemirror_mode": {
    "name": "ipython",
    "version": 3
   },
   "file_extension": ".py",
   "mimetype": "text/x-python",
   "name": "python",
   "nbconvert_exporter": "python",
   "pygments_lexer": "ipython3",
   "version": "3.9.13"
  }
 },
 "nbformat": 4,
 "nbformat_minor": 2
}
